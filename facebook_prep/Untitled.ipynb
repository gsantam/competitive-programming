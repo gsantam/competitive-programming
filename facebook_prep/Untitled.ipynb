{
 "cells": [
  {
   "cell_type": "code",
   "execution_count": 23,
   "metadata": {
    "collapsed": true
   },
   "outputs": [],
   "source": [
    "class Node():\n",
    "    def __init__(self,val):\n",
    "        self.val = val\n",
    "        self.left = None\n",
    "        self.right = None\n",
    "        \n",
    "class BinaryTree():\n",
    "    def __init__(self):\n",
    "        self.head = None\n",
    "        \n",
    "    def insert(self,val):\n",
    "        node = Node(val)\n",
    "        if self.head is None:\n",
    "            self.head = node\n",
    "            return\n",
    "        \n",
    "        actual_node = self.head\n",
    "        found = False\n",
    "        while not found:\n",
    "            if val>actual_node.val:\n",
    "                if actual_node.right is not None:\n",
    "                    actual_node = actual_node.right\n",
    "                else:\n",
    "                    actual_node.right = node\n",
    "                    found = True\n",
    "            else:\n",
    "                if actual_node.left is not None:\n",
    "                    actual_node = actual_node.left\n",
    "                else:\n",
    "                    actual_node.left = node\n",
    "                    found = True\n",
    "                    \n",
    "    def insert_array(self,array):\n",
    "        for val in array:\n",
    "            self.insert(val)\n",
    "            \n",
    "    def print_tree(self):\n",
    "        if self.head is not None:\n",
    "            self.print_search(self.head)\n",
    "        print(\"yey\")\n",
    "            \n",
    "    def print_search(self,current_node = None):\n",
    "        if current_node.left is not None:\n",
    "            self.print_search(current_node.left)\n",
    "        print(current_node.val)\n",
    "        if current_node.right is not None:\n",
    "            self.print_search(current_node.right)\n",
    "        \n",
    "        \n",
    "            \n",
    "                \n",
    "        \n",
    "                \n",
    "            \n",
    "            \n",
    "        "
   ]
  },
  {
   "cell_type": "code",
   "execution_count": 25,
   "metadata": {
    "collapsed": true
   },
   "outputs": [],
   "source": [
    "binary_tree = BinaryTree()"
   ]
  },
  {
   "cell_type": "code",
   "execution_count": 26,
   "metadata": {
    "collapsed": true
   },
   "outputs": [],
   "source": [
    "binary_tree.insert_array([7,1,10,3,6,23,2,65])"
   ]
  },
  {
   "cell_type": "code",
   "execution_count": 27,
   "metadata": {},
   "outputs": [
    {
     "name": "stdout",
     "output_type": "stream",
     "text": [
      "1\n",
      "2\n",
      "3\n",
      "6\n",
      "7\n",
      "10\n",
      "23\n",
      "65\n"
     ]
    }
   ],
   "source": [
    "binary_tree.print_search(binary_tree.head)"
   ]
  },
  {
   "cell_type": "code",
   "execution_count": 28,
   "metadata": {},
   "outputs": [
    {
     "name": "stdout",
     "output_type": "stream",
     "text": [
      "1\n",
      "2\n",
      "3\n",
      "6\n",
      "7\n",
      "10\n",
      "23\n",
      "65\n",
      "yey\n"
     ]
    }
   ],
   "source": [
    "binary_tree.print_tree()"
   ]
  },
  {
   "cell_type": "code",
   "execution_count": 46,
   "metadata": {},
   "outputs": [
    {
     "data": {
      "text/plain": [
       "4"
      ]
     },
     "execution_count": 46,
     "metadata": {},
     "output_type": "execute_result"
    }
   ],
   "source": [
    "my_queue.peek()"
   ]
  },
  {
   "cell_type": "code",
   "execution_count": 47,
   "metadata": {
    "collapsed": true
   },
   "outputs": [],
   "source": [
    "my_queue.add(10)"
   ]
  },
  {
   "cell_type": "code",
   "execution_count": 48,
   "metadata": {},
   "outputs": [
    {
     "data": {
      "text/plain": [
       "4"
      ]
     },
     "execution_count": 48,
     "metadata": {},
     "output_type": "execute_result"
    }
   ],
   "source": [
    "my_queue.peek()"
   ]
  },
  {
   "cell_type": "code",
   "execution_count": 49,
   "metadata": {
    "collapsed": true
   },
   "outputs": [],
   "source": [
    "my_queue.remove()"
   ]
  },
  {
   "cell_type": "code",
   "execution_count": 50,
   "metadata": {},
   "outputs": [
    {
     "data": {
      "text/plain": [
       "5"
      ]
     },
     "execution_count": 50,
     "metadata": {},
     "output_type": "execute_result"
    }
   ],
   "source": [
    "my_queue.peek()"
   ]
  },
  {
   "cell_type": "code",
   "execution_count": 51,
   "metadata": {
    "collapsed": true
   },
   "outputs": [],
   "source": [
    "my_queue.remove()"
   ]
  },
  {
   "cell_type": "code",
   "execution_count": 52,
   "metadata": {},
   "outputs": [
    {
     "data": {
      "text/plain": [
       "10"
      ]
     },
     "execution_count": 52,
     "metadata": {},
     "output_type": "execute_result"
    }
   ],
   "source": [
    "my_queue.peek()"
   ]
  },
  {
   "cell_type": "code",
   "execution_count": 53,
   "metadata": {
    "collapsed": true
   },
   "outputs": [],
   "source": [
    "my_queue.remove()"
   ]
  },
  {
   "cell_type": "code",
   "execution_count": 36,
   "metadata": {},
   "outputs": [
    {
     "name": "stdout",
     "output_type": "stream",
     "text": [
      "[8, 7, 4, 2, 1, 1]\n",
      "[8, 7, 4, 2]\n",
      "[8, 7, 2]\n",
      "[8, 5]\n"
     ]
    }
   ],
   "source": [
    "actual_list = [2,7,4,1,8,1]\n",
    "\n",
    "while len(actual_list)>1:\n",
    "    actual_list= sorted(actual_list,reverse = True)\n",
    "    print(actual_list)\n",
    "    first = actual_list[len(actual_list)-1]\n",
    "    second = actual_list[len(actual_list)-2]\n",
    "    actual_list.pop()\n",
    "    if first == second:\n",
    "        actual_list.pop()\n",
    "    else:\n",
    "        actual_list[len(actual_list)-1]-=first"
   ]
  },
  {
   "cell_type": "code",
   "execution_count": 44,
   "metadata": {},
   "outputs": [
    {
     "name": "stdout",
     "output_type": "stream",
     "text": [
      "[9]\n"
     ]
    }
   ],
   "source": [
    "actual_list = [31,26,33,21,40]\n",
    "\n",
    "while len(actual_list)>1:\n",
    "    actual_list= sorted(actual_list,reverse = True)\n",
    "    big = actual_list[0]\n",
    "    small = actual_list[len(actual_list)-1]\n",
    "    actual_list.pop()\n",
    "    if first == second:\n",
    "        actual_list.pop(0)\n",
    "    else:\n",
    "        actual_list[0]= big - small\n",
    "print(actual_list)"
   ]
  },
  {
   "cell_type": "code",
   "execution_count": null,
   "metadata": {
    "collapsed": true
   },
   "outputs": [],
   "source": []
  }
 ],
 "metadata": {
  "kernelspec": {
   "display_name": "Python 3",
   "language": "python",
   "name": "python3"
  },
  "language_info": {
   "codemirror_mode": {
    "name": "ipython",
    "version": 3
   },
   "file_extension": ".py",
   "mimetype": "text/x-python",
   "name": "python",
   "nbconvert_exporter": "python",
   "pygments_lexer": "ipython3",
   "version": "3.7.4"
  }
 },
 "nbformat": 4,
 "nbformat_minor": 2
}
