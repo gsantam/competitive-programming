{
 "cells": [
  {
   "cell_type": "code",
   "execution_count": 34,
   "metadata": {},
   "outputs": [],
   "source": [
    "import math\n",
    "inputs = open(\"testInput.txt\").read().split(\"\\n\")\n",
    "n = int(inputs[0])\n",
    "outputs = open(\"testOutput.txt\",\"w+\")\n",
    "outputs.truncate()\n",
    "first = True\n",
    "\n",
    "j = 1\n",
    "for i in range(n):\n",
    "    W, H, F, P= [int(x) for x in inputs[j].split(\" \")]\n",
    "    folds = []\n",
    "    for f in range(1,F+1):\n",
    "        folds.append(inputs[f+j])\n",
    "        \n",
    "    j +=F\n",
    "    punches = []\n",
    "    \n",
    "    for p in range(1,P+1):\n",
    "        punches.append([int(x) for x in inputs[p+j].split(\" \")])\n",
    "        \n",
    "    j+=P+1\n",
    "    \n",
    "    prev_punches = tuple(punches)\n",
    "    w = W\n",
    "    h = H\n",
    "    for fold in folds:\n",
    "        actual_punches = []\n",
    "\n",
    "        for punche in prev_punches:\n",
    "            \n",
    "            if fold == \"T\":\n",
    "                actual_punches.append([punche[0],h+punche[1]])\n",
    "                actual_punches.append([punche[0],h-punche[1]-1])\n",
    "            if fold == \"B\":\n",
    "                actual_punches.append([punche[0],punche[1]])\n",
    "                actual_punches.append([punche[0],2*h-punche[1] -1 ])\n",
    "            if fold == \"L\":\n",
    "                actual_punches.append([w+ punche[0],punche[1]])\n",
    "                actual_punches.append([w - punche[0] - 1,punche[1]])\n",
    "            if fold == \"R\":\n",
    "                actual_punches.append([punche[0],punche[1]])\n",
    "                actual_punches.append([2*w-punche[0]-1,punche[1]])\n",
    "        prev_punches = tuple(actual_punches)\n",
    "                \n",
    "        if fold == \"T\" or fold == \"B\":\n",
    "            h = 2*h\n",
    "        else:\n",
    "            w = 2*w\n",
    "            \n",
    "        actual_punches = sorted(actual_punches, key = lambda x: (x[0], x[1]))            \n",
    "\n",
    "\n",
    "    outputs.write(\"Case #\"+str(i+1)+\":\\n\")\n",
    "    for actual_punche in actual_punches:\n",
    "        outputs.write(str(actual_punche[0])+\" \" + str(actual_punche[1]) + \"\\n\")\n",
    "        \n",
    "\n",
    "    \n",
    "outputs.close()"
   ]
  },
  {
   "cell_type": "code",
   "execution_count": 27,
   "metadata": {},
   "outputs": [
    {
     "data": {
      "text/plain": [
       "[[0, 1], [0, 2], [2, 0], [2, 3], [5, 0], [5, 3], [7, 1], [7, 2]]"
      ]
     },
     "execution_count": 27,
     "metadata": {},
     "output_type": "execute_result"
    }
   ],
   "source": [
    "actual_punches"
   ]
  },
  {
   "cell_type": "code",
   "execution_count": null,
   "metadata": {
    "collapsed": true
   },
   "outputs": [],
   "source": [
    "---- ← this is the top side, where the first folding was done\n",
    "0 oxxx\n",
    "1 xxox\n",
    "\n",
    "\n",
    "0 xxox|\n",
    "1 oxxx|\n",
    " ----| ← this was the top side, now it's the middle vertical\n",
    "2 oxxx|\n",
    "3 xxox|\n",
    "\n",
    "\n",
    "xxox|xoxx\n",
    "oxxx|xxxo\n",
    "----+----\n",
    "oxxx|xxxo\n",
    "xxox|xoxx"
   ]
  }
 ],
 "metadata": {
  "kernelspec": {
   "display_name": "Python 3",
   "language": "python",
   "name": "python3"
  },
  "language_info": {
   "codemirror_mode": {
    "name": "ipython",
    "version": 3
   },
   "file_extension": ".py",
   "mimetype": "text/x-python",
   "name": "python",
   "nbconvert_exporter": "python",
   "pygments_lexer": "ipython3",
   "version": "3.6.4"
  }
 },
 "nbformat": 4,
 "nbformat_minor": 2
}
