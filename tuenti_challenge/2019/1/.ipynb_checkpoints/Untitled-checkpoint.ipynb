{
 "cells": [
  {
   "cell_type": "code",
   "execution_count": 2,
   "metadata": {
    "collapsed": true
   },
   "outputs": [],
   "source": [
    "import math\n",
    "inputs = open(\"submitInput.txt\").read().split(\"\\n\")\n",
    "n = int(inputs[0])\n",
    "outputs = open(\"submitOutput.txt\",\"w+\")\n",
    "outputs.truncate()\n",
    "first = True\n",
    "for i,case in enumerate(inputs[1:-1]):\n",
    "    n, m = [int(x) for x in case.split(\" \")]\n",
    "    total_tortillas = math.ceil(n/2) + math.ceil(m/2)\n",
    "    if first:\n",
    "        first = False\n",
    "    else:\n",
    "        outputs.write(\"\\n\")\n",
    "    outputs.write(\"Case #\"+str(i+1)+\": \"+str(total_tortillas))\n",
    "\n",
    "    \n",
    "outputs.close()\n"
   ]
  },
  {
   "cell_type": "code",
   "execution_count": 29,
   "metadata": {},
   "outputs": [
    {
     "data": {
      "text/plain": [
       "['50',\n",
       " '0 1',\n",
       " '1 1',\n",
       " '2 2',\n",
       " '3 2',\n",
       " '1 4',\n",
       " '2 3',\n",
       " '0 5',\n",
       " '4 1',\n",
       " '5 1',\n",
       " '1 5',\n",
       " '0 7',\n",
       " '1 6',\n",
       " '3 4',\n",
       " '7 2',\n",
       " '3 8',\n",
       " '10 2',\n",
       " '9 3',\n",
       " '7 6',\n",
       " '6 7',\n",
       " '3 10',\n",
       " '9 4',\n",
       " '8 6',\n",
       " '10 7',\n",
       " '28 28',\n",
       " '31 25',\n",
       " '40 19',\n",
       " '12 51',\n",
       " '21 44',\n",
       " '4 64',\n",
       " '66 4',\n",
       " '47 33',\n",
       " '44 36',\n",
       " '66 16',\n",
       " '9 77',\n",
       " '62 36',\n",
       " '92 7',\n",
       " '92 9',\n",
       " '58 46',\n",
       " '64 46',\n",
       " '19 91',\n",
       " '38 82',\n",
       " '100 22',\n",
       " '64 63',\n",
       " '100 27',\n",
       " '81 55',\n",
       " '69 72',\n",
       " '80 74',\n",
       " '71 87',\n",
       " '91 85',\n",
       " '96 91',\n",
       " '']"
      ]
     },
     "execution_count": 29,
     "metadata": {},
     "output_type": "execute_result"
    }
   ],
   "source": [
    "inputs"
   ]
  },
  {
   "cell_type": "code",
   "execution_count": 15,
   "metadata": {},
   "outputs": [
    {
     "data": {
      "text/plain": [
       "91"
      ]
     },
     "execution_count": 15,
     "metadata": {},
     "output_type": "execute_result"
    }
   ],
   "source": [
    "m"
   ]
  },
  {
   "cell_type": "code",
   "execution_count": 21,
   "metadata": {},
   "outputs": [
    {
     "data": {
      "text/plain": [
       "3"
      ]
     },
     "execution_count": 21,
     "metadata": {},
     "output_type": "execute_result"
    }
   ],
   "source": [
    "math.ceil(5/2)"
   ]
  }
 ],
 "metadata": {
  "kernelspec": {
   "display_name": "Python 3",
   "language": "python",
   "name": "python3"
  },
  "language_info": {
   "codemirror_mode": {
    "name": "ipython",
    "version": 3
   },
   "file_extension": ".py",
   "mimetype": "text/x-python",
   "name": "python",
   "nbconvert_exporter": "python",
   "pygments_lexer": "ipython3",
   "version": "3.6.4"
  }
 },
 "nbformat": 4,
 "nbformat_minor": 2
}
