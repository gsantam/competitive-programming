{
 "cells": [
  {
   "cell_type": "code",
   "execution_count": 43,
   "metadata": {},
   "outputs": [],
   "source": [
    "import math\n",
    "inputs = open(\"submitInput.txt\").read().split(\"\\n\")\n",
    "n = int(inputs[0])\n",
    "outputs = open(\"submitOutput.txt\",\"w+\")\n",
    "outputs.truncate()\n",
    "first = True\n",
    "\n",
    "j = 1\n",
    "\n",
    "keyboard = [[\"1\",\"2\",\"3\",\"4\",\"5\",\"6\",\"7\",\"8\",\"9\",\"0\"],\n",
    "            [\"Q\",\"W\",\"E\",\"R\",\"T\",\"Y\",\"U\",\"I\",\"O\",\"P\"],\n",
    "            [\"A\",\"S\",\"D\",\"F\",\"G\",\"H\",\"J\",\"K\",\"L\",\";\"],\n",
    "            [\"Z\",\"X\",\"C\",\"V\",\"B\",\"N\",\"M\",\",\",\".\",\"-\"]]\n",
    "\n",
    "keyboard_dict = {keyboard[x][y]:(x,y) for x in range(len(keyboard)) for y in range(len(keyboard[0]))}\n",
    "keyboard_dict_inv = {(x,y):keyboard[x][y] for x in range(len(keyboard)) for y in range(len(keyboard[0]))}\n",
    "\n",
    "\n",
    "for i in range(n):\n",
    "    who = inputs[j]\n",
    "    message = inputs[j+1]\n",
    "    movement_x = keyboard_dict[message[-1]][0] - keyboard_dict[who][0]\n",
    "    movement_y =keyboard_dict[message[-1]][1] - keyboard_dict[who][1]\n",
    "    translated_message = \"\".join([keyboard_dict_inv[((keyboard_dict[char][0]-movement_x)%len(keyboard),(keyboard_dict[char][1]-movement_y)%len(keyboard[0]))] if char!=\" \" else \" \" for char in message])\n",
    "    #print(message)\n",
    "    \n",
    "    j+=2\n",
    "    \n",
    "    if first:\n",
    "        first = False\n",
    "    else:\n",
    "        outputs.write(\"\\n\")\n",
    "    outputs.write(\"Case #\"+str(i+1)+\": \"+translated_message)\n",
    "outputs.close()"
   ]
  },
  {
   "cell_type": "code",
   "execution_count": 39,
   "metadata": {},
   "outputs": [
    {
     "data": {
      "text/plain": [
       "'I MISS YOU. G'"
      ]
     },
     "execution_count": 39,
     "metadata": {},
     "output_type": "execute_result"
    }
   ],
   "source": [
    "translated_message"
   ]
  },
  {
   "cell_type": "code",
   "execution_count": 29,
   "metadata": {},
   "outputs": [
    {
     "data": {
      "text/plain": [
       "'P .PFF IQOZ J'"
      ]
     },
     "execution_count": 29,
     "metadata": {},
     "output_type": "execute_result"
    }
   ],
   "source": [
    "message"
   ]
  },
  {
   "cell_type": "code",
   "execution_count": 28,
   "metadata": {},
   "outputs": [
    {
     "data": {
      "text/plain": [
       "'Q'"
      ]
     },
     "execution_count": 28,
     "metadata": {},
     "output_type": "execute_result"
    }
   ],
   "source": [
    "char"
   ]
  },
  {
   "cell_type": "code",
   "execution_count": 25,
   "metadata": {
    "collapsed": true
   },
   "outputs": [],
   "source": [
    "char ='J'"
   ]
  },
  {
   "cell_type": "code",
   "execution_count": 26,
   "metadata": {},
   "outputs": [
    {
     "data": {
      "text/plain": [
       "'G'"
      ]
     },
     "execution_count": 26,
     "metadata": {},
     "output_type": "execute_result"
    }
   ],
   "source": [
    "keyboard_dict_inv[(keyboard_dict[char][0]-movement_x,keyboard_dict[char][1]-movement_y)]"
   ]
  },
  {
   "cell_type": "code",
   "execution_count": 21,
   "metadata": {},
   "outputs": [
    {
     "data": {
      "text/plain": [
       "0"
      ]
     },
     "execution_count": 21,
     "metadata": {},
     "output_type": "execute_result"
    }
   ],
   "source": [
    "movement_x"
   ]
  },
  {
   "cell_type": "code",
   "execution_count": 22,
   "metadata": {},
   "outputs": [
    {
     "data": {
      "text/plain": [
       "2"
      ]
     },
     "execution_count": 22,
     "metadata": {},
     "output_type": "execute_result"
    }
   ],
   "source": [
    "movement_y"
   ]
  },
  {
   "cell_type": "code",
   "execution_count": null,
   "metadata": {
    "collapsed": true
   },
   "outputs": [],
   "source": [
    "import math\n",
    "inputs = open(\"submitInput.txt\").read().split(\"\\n\")\n",
    "n = int(inputs[0])\n",
    "outputs = open(\"submitOutput.txt\",\"w+\")\n",
    "outputs.truncate()\n",
    "first = True\n",
    "\n",
    "def lcm(a):\n",
    "    lcm = a[0]\n",
    "    for i in a[1:]:\n",
    "        lcm = lcm*i//math.gcd(lcm, i)\n",
    "    return lcm\n",
    "j = 1\n",
    "for i in range(n):\n",
    "    N = int(inputs[j])\n",
    "    \n",
    "    numbers ={}\n",
    "    for number in [int(x) for x in inputs[j+1].split(\" \")]:\n",
    "        if number not in numbers:\n",
    "            numbers[number] = 0\n",
    "        numbers[number]+=1\n",
    "        \n",
    "    repetition= dict()\n",
    "    for number in numbers:\n",
    "        lcm_number = lcm([number, numbers[number]])\n",
    "        repetition[number] = lcm_number//numbers[number]\n",
    "        #lcms[number] = lcm([number, numbers[number]])\n",
    "        \n",
    "        \n",
    "    final_lcm = lcm(list(repetition.values()))\n",
    "    den = 0\n",
    "    nom = 0\n",
    "    for number in repetition:\n",
    "        den += final_lcm*numbers[number]//number\n",
    "        nom += (final_lcm*numbers[number]*number)//number\n",
    "        \n",
    "    my_gcd = math.gcd(den, nom)\n",
    "\n",
    "        \n",
    "    j+=2\n",
    "    if first:\n",
    "        first = False\n",
    "    else:\n",
    "        outputs.write(\"\\n\")\n",
    "    outputs.write(\"Case #\"+str(i+1)+\": \"+str(nom//my_gcd)+\"/\"+str(den//my_gcd))\n",
    "\n",
    "    \n",
    "outputs.close()"
   ]
  }
 ],
 "metadata": {
  "kernelspec": {
   "display_name": "Python 3",
   "language": "python",
   "name": "python3"
  },
  "language_info": {
   "codemirror_mode": {
    "name": "ipython",
    "version": 3
   },
   "file_extension": ".py",
   "mimetype": "text/x-python",
   "name": "python",
   "nbconvert_exporter": "python",
   "pygments_lexer": "ipython3",
   "version": "3.6.4"
  }
 },
 "nbformat": 4,
 "nbformat_minor": 2
}
