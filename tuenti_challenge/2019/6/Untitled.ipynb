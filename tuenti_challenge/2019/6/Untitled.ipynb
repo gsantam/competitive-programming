{
 "cells": [
  {
   "cell_type": "code",
   "execution_count": 100,
   "metadata": {},
   "outputs": [],
   "source": [
    "import math\n",
    "inputs = open(\"submitInput.txt\").read().split(\"\\n\")\n",
    "n = int(inputs[0])\n",
    "outputs = open(\"submitOutput.txt\",\"w+\")\n",
    "outputs.truncate()\n",
    "first = True\n",
    "\n",
    "j = 1\n",
    "\n",
    "\n",
    "for i in range(n):\n",
    "    if first:\n",
    "        first = False\n",
    "    else:\n",
    "        outputs.write(\"\\n\")\n",
    "        \n",
    "    n_words = int(inputs[j])\n",
    "    smaller_than = {}\n",
    "\n",
    "    words = []\n",
    "    for k in range(n_words):\n",
    "        for char in inputs[j+k+1]:\n",
    "            smaller_than[char] = set()\n",
    "        \n",
    "    for k in range(n_words-1):\n",
    "        \n",
    "        p = 0\n",
    "        while p<len(inputs[j+k+1]) and p<len(inputs[j+k+2]) and inputs[j+k+1][p]==inputs[j+k+2][p]:\n",
    "            p+=1\n",
    "            \n",
    "        if not (p==len(inputs[j+k+1]) or p==len(inputs[j+k+2])):\n",
    "            smaller_than[inputs[j+k+1][p]].add(inputs[j+k+2][p])\n",
    "            \n",
    "        \n",
    "    ambiguous = False\n",
    "    visited = []\n",
    "    while not ambiguous and len(visited)<len(smaller_than.keys()):\n",
    "        visited_letters = []\n",
    "        for letter in smaller_than:\n",
    "            if letter not in visited:\n",
    "                has_bigger_letter = False\n",
    "                for bigger_letter in smaller_than[letter]:\n",
    "                    if bigger_letter not in visited:\n",
    "                        has_bigger_letter = True\n",
    "                        break\n",
    "                if not has_bigger_letter:\n",
    "                    visited_letters.append(letter)\n",
    "\n",
    "        if len(visited_letters)!=1:\n",
    "            ambiguous = True\n",
    "        else:\n",
    "            visited.append(visited_letters[0])\n",
    "                \n",
    "    if ambiguous == True:\n",
    "        outputs.write(\"Case #\"+str(i+1)+\": AMBIGUOUS\")\n",
    "    else:\n",
    "        outputs.write(\"Case #\"+str(i+1)+\": \"+\" \".join(list(reversed(visited))))\n",
    "\n",
    "                                \n",
    "    \n",
    "    j+=n_words+1\n",
    "    \n",
    "outputs.close()"
   ]
  },
  {
   "cell_type": "code",
   "execution_count": 97,
   "metadata": {},
   "outputs": [
    {
     "data": {
      "text/plain": [
       "{'c': set(), 't': set()}"
      ]
     },
     "execution_count": 97,
     "metadata": {},
     "output_type": "execute_result"
    }
   ],
   "source": [
    "smaller_than"
   ]
  },
  {
   "cell_type": "code",
   "execution_count": null,
   "metadata": {
    "collapsed": true
   },
   "outputs": [],
   "source": [
    "[a,b,d,a]"
   ]
  },
  {
   "cell_type": "code",
   "execution_count": 34,
   "metadata": {},
   "outputs": [],
   "source": [
    "letter = \"c\"\n",
    "has_bigger_letter = False\n",
    "for bigger_letter in smaller_than[letter]:\n",
    "    if bigger_letter not in visited:\n",
    "        has_bigger_leter = True\n",
    "        break"
   ]
  },
  {
   "cell_type": "code",
   "execution_count": 89,
   "metadata": {},
   "outputs": [
    {
     "data": {
      "text/plain": [
       "'a d b c'"
      ]
     },
     "execution_count": 89,
     "metadata": {},
     "output_type": "execute_result"
    }
   ],
   "source": [
    "\" \".join(list(reversed(visited)))"
   ]
  },
  {
   "cell_type": "code",
   "execution_count": 88,
   "metadata": {},
   "outputs": [
    {
     "data": {
      "text/plain": [
       "False"
      ]
     },
     "execution_count": 88,
     "metadata": {},
     "output_type": "execute_result"
    }
   ],
   "source": [
    "ambiguous"
   ]
  },
  {
   "cell_type": "code",
   "execution_count": 40,
   "metadata": {},
   "outputs": [],
   "source": [
    "for bigger_letter in smaller_than[letter]:\n",
    "    print(bigger_letter)\n",
    "    if bigger_letter not in visited:\n",
    "        print(\"yey\")"
   ]
  },
  {
   "cell_type": "code",
   "execution_count": 31,
   "metadata": {},
   "outputs": [],
   "source": [
    "for x in smaller_than[\"c\"]:\n",
    "    print(x)"
   ]
  }
 ],
 "metadata": {
  "kernelspec": {
   "display_name": "Python 3",
   "language": "python",
   "name": "python3"
  },
  "language_info": {
   "codemirror_mode": {
    "name": "ipython",
    "version": 3
   },
   "file_extension": ".py",
   "mimetype": "text/x-python",
   "name": "python",
   "nbconvert_exporter": "python",
   "pygments_lexer": "ipython3",
   "version": "3.6.4"
  }
 },
 "nbformat": 4,
 "nbformat_minor": 2
}
