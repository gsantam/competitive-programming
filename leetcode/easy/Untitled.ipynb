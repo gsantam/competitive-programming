{
 "cells": [
  {
   "cell_type": "code",
   "execution_count": 20,
   "metadata": {},
   "outputs": [
    {
     "data": {
      "text/plain": [
       "0"
      ]
     },
     "execution_count": 20,
     "metadata": {},
     "output_type": "execute_result"
    }
   ],
   "source": [
    "from collections import Counter\n",
    "\n",
    "class Solution:\n",
    "    def checkSubarraySum(self, s, k) -> bool:\n",
    "        count = dict(Counter(s))\n",
    "        letters_hold_condition = set([x for x in count if count[x]>=k])\n",
    "        if len(letters_hold_condition)== len(count):\n",
    "            return len(s)\n",
    "        \n",
    "        i = 0\n",
    "        j = len(s) -1\n",
    "        while i<=j:\n",
    "            if count[s[i]] <= count[s[j]]:\n",
    "                letter_to_remove = s[i]\n",
    "                i+=1\n",
    "            else:\n",
    "                letter_to_remove = s[j]\n",
    "                j-=1\n",
    "            count[letter_to_remove]-=1\n",
    "            if count[letter_to_remove] < k:\n",
    "                if letter_to_remove in letters_hold_condition:\n",
    "                    letters_hold_condition.remove(letter_to_remove)\n",
    "            if count[letter_to_remove]==0:\n",
    "                del count[letter_to_remove]\n",
    "            if len(count) == len(letters_hold_condition): \n",
    "                return j-i+1\n",
    "        return 0\n",
    "    \n",
    "solution = Solution()\n",
    "solution.checkSubarraySum(\"caaaacac\",4)"
   ]
  }
 ],
 "metadata": {
  "kernelspec": {
   "display_name": "Python 3",
   "language": "python",
   "name": "python3"
  },
  "language_info": {
   "codemirror_mode": {
    "name": "ipython",
    "version": 3
   },
   "file_extension": ".py",
   "mimetype": "text/x-python",
   "name": "python",
   "nbconvert_exporter": "python",
   "pygments_lexer": "ipython3",
   "version": "3.8.5"
  }
 },
 "nbformat": 4,
 "nbformat_minor": 4
}
