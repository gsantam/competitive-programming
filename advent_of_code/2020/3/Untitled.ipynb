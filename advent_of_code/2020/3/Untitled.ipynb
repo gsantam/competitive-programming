{
 "cells": [
  {
   "cell_type": "code",
   "execution_count": 28,
   "metadata": {},
   "outputs": [
    {
     "name": "stdout",
     "output_type": "stream",
     "text": [
      "207\n"
     ]
    }
   ],
   "source": [
    "maps = open(\"input.txt\",\"r\").read().strip().split(\"\\n\")\n",
    "\n",
    "def get_n_trees(slope_y,slope_x):\n",
    "    i = 0\n",
    "    j = 0\n",
    "    n_trees = 0\n",
    "    while i<len(maps):\n",
    "        if maps[i][j]==\"#\":\n",
    "            n_trees+=1\n",
    "        j =(j+slope_y)%len(maps[0])\n",
    "        i+=slope_x\n",
    "    return n_trees\n",
    "\n",
    "print(get_n_trees(3,1))"
   ]
  },
  {
   "cell_type": "code",
   "execution_count": 16,
   "metadata": {},
   "outputs": [
    {
     "data": {
      "text/plain": [
       "0"
      ]
     },
     "execution_count": 16,
     "metadata": {},
     "output_type": "execute_result"
    }
   ],
   "source": [
    "len(maps[-1])"
   ]
  }
 ],
 "metadata": {
  "kernelspec": {
   "display_name": "Python 3",
   "language": "python",
   "name": "python3"
  },
  "language_info": {
   "codemirror_mode": {
    "name": "ipython",
    "version": 3
   },
   "file_extension": ".py",
   "mimetype": "text/x-python",
   "name": "python",
   "nbconvert_exporter": "python",
   "pygments_lexer": "ipython3",
   "version": "3.8.5"
  }
 },
 "nbformat": 4,
 "nbformat_minor": 4
}
