{
 "cells": [
  {
   "cell_type": "code",
   "execution_count": 9,
   "metadata": {},
   "outputs": [
    {
     "name": "stdout",
     "output_type": "stream",
     "text": [
      "1639024365\n"
     ]
    }
   ],
   "source": [
    "preamb = 50\n",
    "for i,number in enumerate(numbers[preamb:]):\n",
    "    found = False\n",
    "    for j in range(preamb):\n",
    "        for k in range(preamb):\n",
    "            if numbers[j+i]+numbers[k+i]==number and numbers[j+i]!=numbers[k+i]:\n",
    "                found = True\n",
    "    if not found:\n",
    "        print(number)\n",
    "        break"
   ]
  },
  {
   "cell_type": "code",
   "execution_count": 1,
   "metadata": {},
   "outputs": [
    {
     "name": "stdout",
     "output_type": "stream",
     "text": [
      "219202240\n"
     ]
    }
   ],
   "source": [
    "target = 1639024365\n",
    "numbers  = [int(number) for number in open(\"input.txt\",\"r\").readlines() if number!=\"\\n\"]\n",
    "cum_numbers = [0 for i in range(len(numbers)+1)]\n",
    "for i,number in enumerate(numbers):\n",
    "    cum_numbers[i+1] = cum_numbers[i]+number\n",
    "i = 0\n",
    "j = 0\n",
    "while not (cum_numbers[j]-cum_numbers[i]==target and j>i+1):\n",
    "    if j==len(cum_numbers)-1 or cum_numbers[j]-cum_numbers[i]>target:\n",
    "        i+=1\n",
    "    else:\n",
    "        j+=1\n",
    "print(max(numbers[i:j])+min(numbers[i:j]))"
   ]
  },
  {
   "cell_type": "code",
   "execution_count": 19,
   "metadata": {},
   "outputs": [],
   "source": [
    "for i in range(len(numbers)):\n",
    "    cumsum = 0\n",
    "    max_ = numbers[i]\n",
    "    min_ = numbers[i]\n",
    "    for j in range(i,len(numbers)):\n",
    "        cumsum+=numbers[j]\n",
    "        max_ = max(numbers[j],max_)\n",
    "        min_ = min(numbers[j],min_)\n",
    "\n",
    "        if cumsum==1639024365 and i!=j:\n",
    "            print(max_+min_)"
   ]
  },
  {
   "cell_type": "code",
   "execution_count": 2,
   "metadata": {},
   "outputs": [
    {
     "data": {
      "text/plain": [
       "[3,\n",
       " 5,\n",
       " 2,\n",
       " 0,\n",
       " 1,\n",
       " 5,\n",
       " 2,\n",
       " 5,\n",
       " 4,\n",
       " 7,\n",
       " 4,\n",
       " 0,\n",
       " 6,\n",
       " 2,\n",
       " 5,\n",
       " 5,\n",
       " 6,\n",
       " 5,\n",
       " 9,\n",
       " 5,\n",
       " 1,\n",
       " 0,\n",
       " 2,\n",
       " 1,\n",
       " 1,\n",
       " 7,\n",
       " 1,\n",
       " 5,\n",
       " 0,\n",
       " 1,\n",
       " 8,\n",
       " 2,\n",
       " 1,\n",
       " 2,\n",
       " 7,\n",
       " 2,\n",
       " 1,\n",
       " 9,\n",
       " 2,\n",
       " 9,\n",
       " 9,\n",
       " 2,\n",
       " 7,\n",
       " 7,\n",
       " 3,\n",
       " 0,\n",
       " 9,\n",
       " 5,\n",
       " 7,\n",
       " 6]"
      ]
     },
     "execution_count": 2,
     "metadata": {},
     "output_type": "execute_result"
    }
   ],
   "source": [
    "numbers"
   ]
  }
 ],
 "metadata": {
  "kernelspec": {
   "display_name": "Python 3",
   "language": "python",
   "name": "python3"
  },
  "language_info": {
   "codemirror_mode": {
    "name": "ipython",
    "version": 3
   },
   "file_extension": ".py",
   "mimetype": "text/x-python",
   "name": "python",
   "nbconvert_exporter": "python",
   "pygments_lexer": "ipython3",
   "version": "3.8.5"
  }
 },
 "nbformat": 4,
 "nbformat_minor": 4
}
