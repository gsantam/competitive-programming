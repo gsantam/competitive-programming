{
 "cells": [
  {
   "cell_type": "code",
   "execution_count": 10,
   "metadata": {},
   "outputs": [
    {
     "name": "stdout",
     "output_type": "stream",
     "text": [
      "2080\n"
     ]
    }
   ],
   "source": [
    "\n",
    "inss= [x.strip().split(\" \") for x in open(\"input.txt\").readlines()]\n",
    "print(run_ins(inss)[0])"
   ]
  },
  {
   "cell_type": "code",
   "execution_count": 8,
   "metadata": {},
   "outputs": [],
   "source": [
    "def run_ins(inss):\n",
    "    seen = set()\n",
    "    i = 0\n",
    "    acc = 0\n",
    "    while i not in seen and i<len(inss):\n",
    "        ins = inss[i]\n",
    "        seen.add(i)\n",
    "        if ins[0] == \"acc\":\n",
    "            acc+=int(ins[1])\n",
    "            i+=1\n",
    "        if ins[0]==\"jmp\":\n",
    "            i+=int(ins[1])\n",
    "        if ins[0]==\"nop\":\n",
    "            i+=1\n",
    "    end = False\n",
    "    if i >= len(inss):\n",
    "        end = True\n",
    "    return acc,end"
   ]
  },
  {
   "cell_type": "code",
   "execution_count": 14,
   "metadata": {},
   "outputs": [],
   "source": []
  },
  {
   "cell_type": "code",
   "execution_count": 9,
   "metadata": {},
   "outputs": [
    {
     "name": "stdout",
     "output_type": "stream",
     "text": [
      "2477\n"
     ]
    }
   ],
   "source": [
    "inss= [x.strip().split(\" \") for x in open(\"input.txt\").readlines()]\n",
    "for j in range(len(inss)):\n",
    "    inss= [x.strip().split(\" \") for x in open(\"input.txt\").readlines()]\n",
    "\n",
    "    if inss[j][0]==\"nop\":\n",
    "        inss[j][0]=\"jmp\"\n",
    "    else:\n",
    "        inss[j][0]=\"nop\"\n",
    "        \n",
    "    acc,end =  run_ins(inss)\n",
    "    if end :\n",
    "        print(acc)"
   ]
  },
  {
   "cell_type": "code",
   "execution_count": 3,
   "metadata": {},
   "outputs": [
    {
     "data": {
      "text/plain": [
       "345"
      ]
     },
     "execution_count": 3,
     "metadata": {},
     "output_type": "execute_result"
    }
   ],
   "source": [
    "j"
   ]
  }
 ],
 "metadata": {
  "kernelspec": {
   "display_name": "Python 3",
   "language": "python",
   "name": "python3"
  },
  "language_info": {
   "codemirror_mode": {
    "name": "ipython",
    "version": 3
   },
   "file_extension": ".py",
   "mimetype": "text/x-python",
   "name": "python",
   "nbconvert_exporter": "python",
   "pygments_lexer": "ipython3",
   "version": "3.8.5"
  }
 },
 "nbformat": 4,
 "nbformat_minor": 4
}
