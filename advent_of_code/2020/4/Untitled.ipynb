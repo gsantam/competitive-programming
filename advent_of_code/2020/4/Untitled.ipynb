{
 "cells": [
  {
   "cell_type": "code",
   "execution_count": 26,
   "metadata": {},
   "outputs": [
    {
     "name": "stdout",
     "output_type": "stream",
     "text": [
      "245\n"
     ]
    }
   ],
   "source": [
    "lines = open(\"input.txt\").readlines()\n",
    "passport = {}\n",
    "n_valid = 0\n",
    "required_fields = set([\"byr\",\"iyr\",\"eyr\",\"hgt\",\"hcl\",\"ecl\",\"pid\"])\n",
    "for line in lines:\n",
    "    if line == \"\\n\":\n",
    "        if len(required_fields&passport.keys())>=len(required_fields):\n",
    "            n_valid+=1\n",
    "        passport = {}\n",
    "    else:\n",
    "        line = line.strip().split(\" \")\n",
    "        passport = {**{i.split(\":\")[0]:i.split(\":\")[1] for i in line},**passport}\n",
    "if len(required_fields&passport.keys())>=len(required_fields):\n",
    "    n_valid+=1\n",
    "    \n",
    "print(n_valid)"
   ]
  },
  {
   "cell_type": "code",
   "execution_count": 36,
   "metadata": {},
   "outputs": [
    {
     "data": {
      "text/plain": [
       "True"
      ]
     },
     "execution_count": 36,
     "metadata": {},
     "output_type": "execute_result"
    }
   ],
   "source": [
    "import re\n",
    "re.match(\"^[\\#][a-zA-Z0-9]{6}$\",\"#1234552\") is None"
   ]
  },
  {
   "cell_type": "code",
   "execution_count": 33,
   "metadata": {},
   "outputs": [
    {
     "ename": "AttributeError",
     "evalue": "'NoneType' object has no attribute 'start'",
     "output_type": "error",
     "traceback": [
      "\u001b[0;31m---------------------------------------------------------------------------\u001b[0m",
      "\u001b[0;31mAttributeError\u001b[0m                            Traceback (most recent call last)",
      "\u001b[0;32m<ipython-input-33-a7f9ed394689>\u001b[0m in \u001b[0;36m<module>\u001b[0;34m\u001b[0m\n\u001b[0;32m----> 1\u001b[0;31m \u001b[0ma\u001b[0m\u001b[0;34m.\u001b[0m\u001b[0mstart\u001b[0m\u001b[0;34m(\u001b[0m\u001b[0;34m)\u001b[0m\u001b[0;34m\u001b[0m\u001b[0;34m\u001b[0m\u001b[0m\n\u001b[0m",
      "\u001b[0;31mAttributeError\u001b[0m: 'NoneType' object has no attribute 'start'"
     ]
    }
   ],
   "source": [
    "a.start()"
   ]
  },
  {
   "cell_type": "code",
   "execution_count": 12,
   "metadata": {},
   "outputs": [
    {
     "name": "stdout",
     "output_type": "stream",
     "text": [
      "133\n"
     ]
    }
   ],
   "source": [
    "import re\n",
    "lines = open(\"input.txt\").readlines()\n",
    "passport = {}\n",
    "n_valid = 0\n",
    "\n",
    "def is_valid(passport):\n",
    "    try:\n",
    "        if int(passport[\"byr\"]) <1920 or int(passport[\"byr\"])>2002:\n",
    "            return False\n",
    "        if int(passport[\"iyr\"]) <2010 or int(passport[\"iyr\"])>2020:\n",
    "            return False\n",
    "        if int(passport[\"eyr\"]) <2020 or int(passport[\"eyr\"])>2030:\n",
    "            return False\n",
    "        if passport[\"hgt\"][-2:]==\"cm\":\n",
    "            if int(passport[\"hgt\"][:-2]) <150 or int(passport[\"hgt\"][:-2])>193:\n",
    "                return False\n",
    "        elif passport[\"hgt\"][-2:]==\"in\":\n",
    "            if int(passport[\"hgt\"][:-2]) <59 or int(passport[\"hgt\"][:-2])>76:\n",
    "                return False\n",
    "        else:\n",
    "            return False\n",
    "        if re.match(\"^[\\#][0-9a-f]{6}$\",passport[\"hcl\"]) is None:\n",
    "            return False\n",
    "        if passport[\"ecl\"] not in [\"amb\",\"blu\",\"brn\", \"gry\", \"grn\", \"hzl\", \"oth\"]:\n",
    "            return False\n",
    "        if re.match(\"^[0-9]{9}$\",passport[\"pid\"]) is None:\n",
    "            return False\n",
    "        return True\n",
    "    except:\n",
    "        return False\n",
    "        \n",
    "    \n",
    "for line in lines:\n",
    "    if line == \"\\n\":\n",
    "        if is_valid(passport):\n",
    "            n_valid+=1\n",
    "        passport = {}\n",
    "    else:\n",
    "        line = line.strip().split(\" \")\n",
    "        passport = {**{i.split(\":\")[0]:i.split(\":\")[1] for i in line},**passport}\n",
    "        \n",
    "if is_valid(passport):\n",
    "    n_valid+=1\n",
    "    \n",
    "print(n_valid)"
   ]
  },
  {
   "cell_type": "code",
   "execution_count": 86,
   "metadata": {},
   "outputs": [
    {
     "name": "stdout",
     "output_type": "stream",
     "text": [
      "1133\n"
     ]
    }
   ],
   "source": [
    "print(len(lines))"
   ]
  },
  {
   "cell_type": "code",
   "execution_count": 8,
   "metadata": {},
   "outputs": [
    {
     "name": "stdout",
     "output_type": "stream",
     "text": [
      "292\n",
      "[1, 10, 14, 18, 19, 20, 25, 27, 29, 32, 33, 34, 37, 40, 42, 44, 45, 49, 51, 52, 56, 59, 65, 66, 67, 71, 72, 75, 79, 81, 84, 85, 86, 87, 89, 93, 95, 96, 97, 100, 101, 102, 103, 105, 110, 111, 113, 114, 119, 120, 121, 122, 125, 126, 133, 136, 137, 140, 141, 143, 148, 149, 150, 153, 155, 157, 158, 161, 162, 165, 166, 167, 170, 171, 175, 176, 177, 179, 180, 181, 184, 185, 187, 190, 192, 194, 195, 196, 198, 200, 202, 203, 206, 207, 208, 209, 211, 216, 218, 219, 220, 221, 225, 227, 230, 231, 232, 233, 238, 239, 242, 243, 245, 246, 247, 248, 249, 250, 251, 253, 254, 257, 264, 267, 269, 270, 272, 273, 274, 280, 286, 287, 291]\n"
     ]
    }
   ],
   "source": [
    "import re\n",
    "\n",
    "def validate_passport(passport):\n",
    "    return all(key in passport for key in [\"byr\", \"iyr\", \"eyr\", \"hgt\", \"hcl\", \"ecl\", \"pid\"])\n",
    "\n",
    "def parse_passport(passport):\n",
    "    # Convert passport to dict\n",
    "    passport_dict = dict()\n",
    "    for item in re.split(' |\\n', passport):\n",
    "        passport_dict[item.split(':')[0]] = item.split(':')[1]\n",
    "    \n",
    "    # Validate specific elements\n",
    "    if validate_passport(passport):\n",
    "        conditions = [  int(passport_dict['byr']) not in range(1920, 2003),\n",
    "                        int(passport_dict['iyr']) not in range(2010, 2021),\n",
    "                        int(passport_dict['eyr']) not in range(2020, 2031),\n",
    "                        passport_dict['hcl'][0] != \"#\" or len(passport_dict['hcl']) != 7 or not passport_dict['hcl'][1:].isalnum(),\n",
    "                        passport_dict['ecl'] not in ['amb', 'blu', 'brn', 'gry', 'grn', 'hzl', 'oth'],\n",
    "                        len(passport_dict['pid']) != 9,\n",
    "                        not all(x.isdigit() for x in passport_dict['pid']),\n",
    "                        not any(passport_dict['hgt'][-2:] == measurement for measurement in  [\"in\", \"cm\"]),\n",
    "                        passport_dict['hgt'][-2:] == \"in\" and int(passport_dict['hgt'][:-2]) not in range(59, 77),\n",
    "                        passport_dict['hgt'][-2:] == \"cm\" and int(passport_dict['hgt'][:-2]) not in range(150, 194)]\n",
    "        if any(conditions):\n",
    "            return False\n",
    "    else:\n",
    "        return False\n",
    "    return True\n",
    "\n",
    "def part_one(data):\n",
    "    return sum([validate_passport(passport) for passport in data])\n",
    "\n",
    "def part_two(data):\n",
    "    return print([o for o,passport in enumerate(data) if parse_passport(passport)==True])\n",
    "\n",
    "with open(\"input.txt\") as f:\n",
    "    data = [(x.strip()) for x in f.read().split(\"\\n\\n\")]\n",
    "    print(len(data))\n",
    "    part_two(data)"
   ]
  }
 ],
 "metadata": {
  "kernelspec": {
   "display_name": "Python 3",
   "language": "python",
   "name": "python3"
  },
  "language_info": {
   "codemirror_mode": {
    "name": "ipython",
    "version": 3
   },
   "file_extension": ".py",
   "mimetype": "text/x-python",
   "name": "python",
   "nbconvert_exporter": "python",
   "pygments_lexer": "ipython3",
   "version": "3.8.5"
  }
 },
 "nbformat": 4,
 "nbformat_minor": 4
}
