{
 "cells": [
  {
   "cell_type": "code",
   "execution_count": 1,
   "metadata": {},
   "outputs": [
    {
     "name": "stdout",
     "output_type": "stream",
     "text": [
      "970816\n",
      "970816\n"
     ]
    }
   ],
   "source": [
    "input_file = open(\"input.txt\",\"r\")\n",
    "numbers = [int(i) for i in input_file.readlines()]\n",
    "seen = set(numbers)\n",
    "for number_1 in numbers:\n",
    "        if 2020 - number_1  in seen:\n",
    "            print(number_1*(2020 - number_1 ))\n"
   ]
  },
  {
   "cell_type": "code",
   "execution_count": null,
   "metadata": {},
   "outputs": [],
   "source": [
    "for number_1 in enumerate(input_file.readlines()):\n",
    "    input_file = open(\"input.txt\",\"r\")\n",
    "    for number_2 in enumerate(input_file.readlines()):\n",
    "        print(int(number_1))\n",
    "        print(int(number_2))\n",
    "    number = int(number)\n",
    "    if 2020 - number in seen:\n",
    "        print(number*(2020-number))\n",
    "    seen.add(number)"
   ]
  }
 ],
 "metadata": {
  "kernelspec": {
   "display_name": "Python 3",
   "language": "python",
   "name": "python3"
  },
  "language_info": {
   "codemirror_mode": {
    "name": "ipython",
    "version": 3
   },
   "file_extension": ".py",
   "mimetype": "text/x-python",
   "name": "python",
   "nbconvert_exporter": "python",
   "pygments_lexer": "ipython3",
   "version": "3.8.5"
  }
 },
 "nbformat": 4,
 "nbformat_minor": 4
}
