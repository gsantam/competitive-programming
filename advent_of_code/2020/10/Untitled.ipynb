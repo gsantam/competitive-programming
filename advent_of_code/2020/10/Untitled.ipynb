{
 "cells": [
  {
   "cell_type": "code",
   "execution_count": 31,
   "metadata": {},
   "outputs": [
    {
     "name": "stdout",
     "output_type": "stream",
     "text": [
      "2310\n"
     ]
    }
   ],
   "source": [
    "from collections import defaultdict\n",
    "joints = [int(x) for x in open(\"input.txt\",\"r\").readlines() if x!=\"\\n\"]\n",
    "joints = sorted(joints)\n",
    "dif_prevs = defaultdict(int)\n",
    "dif_prevs[joints[0]]+=1\n",
    "for i,joint in enumerate(joints):\n",
    "    if i>0:\n",
    "        dif_prevs[joint-joints[i-1]]+=1\n",
    "dif_prevs[3]+=1\n",
    "print(dif_prevs[1]*dif_prevs[3])"
   ]
  },
  {
   "cell_type": "code",
   "execution_count": 29,
   "metadata": {},
   "outputs": [
    {
     "name": "stdout",
     "output_type": "stream",
     "text": [
      "64793042714624\n"
     ]
    }
   ],
   "source": [
    "joints = set([int(x) for x in open(\"input.txt\",\"r\").readlines() if x!=\"\\n\"])\n",
    "joints.add(max(joints)+3)\n",
    "cum_joints = [0 for i in range(max(joints))]\n",
    "cum_joints[0] = 1\n",
    "cum_joints[1] = 1\n",
    "for i in range(2,len(cum_joints)):\n",
    "        cum_joints[i] +=  (i in joints)*(cum_joints[i-1] + cum_joints[i-2] +cum_joints[i-3])\n",
    "print(max(cum_joints))"
   ]
  },
  {
   "cell_type": "code",
   "execution_count": 26,
   "metadata": {},
   "outputs": [
    {
     "data": {
      "text/plain": [
       "False"
      ]
     },
     "execution_count": 26,
     "metadata": {},
     "output_type": "execute_result"
    }
   ],
   "source": []
  }
 ],
 "metadata": {
  "kernelspec": {
   "display_name": "Python 3",
   "language": "python",
   "name": "python3"
  },
  "language_info": {
   "codemirror_mode": {
    "name": "ipython",
    "version": 3
   },
   "file_extension": ".py",
   "mimetype": "text/x-python",
   "name": "python",
   "nbconvert_exporter": "python",
   "pygments_lexer": "ipython3",
   "version": "3.8.5"
  }
 },
 "nbformat": 4,
 "nbformat_minor": 4
}
