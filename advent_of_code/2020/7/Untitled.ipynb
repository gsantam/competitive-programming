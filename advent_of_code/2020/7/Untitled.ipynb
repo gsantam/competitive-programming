{
 "cells": [
  {
   "cell_type": "code",
   "execution_count": 79,
   "metadata": {},
   "outputs": [
    {
     "name": "stdout",
     "output_type": "stream",
     "text": [
      "148\n"
     ]
    }
   ],
   "source": [
    "bags = open(\"input.txt\").readlines()\n",
    "stack = []\n",
    "graph = {}\n",
    "ways = 0\n",
    "for bag in bags:    \n",
    "    bag = bag.replace(\" contain no other bags.\",\"\").strip()\n",
    "    bag_ = bag.split(\" \")\n",
    "    graph[tuple(bag_[:2])] = {tuple(bag_[i+1:i+3]):int(bag_[i]) for i in range(len(bag_)) if i%4==0 and i>=1}\n",
    "    stack.append([tuple(bag_[:2])])\n",
    "    \n",
    "seen = set()\n",
    "while len(stack)!=0:\n",
    "    element = stack.pop()\n",
    "    if element[-1] == tuple([\"shiny\", \"gold\"]) and len(element)>1:\n",
    "        seen.add(element[0])\n",
    "    for child in graph[element[-1]].keys():\n",
    "        new_element = element.copy()\n",
    "        new_element.append(child)\n",
    "        stack.append(new_element)\n",
    "print(len(seen))"
   ]
  },
  {
   "cell_type": "code",
   "execution_count": 124,
   "metadata": {},
   "outputs": [
    {
     "name": "stdout",
     "output_type": "stream",
     "text": [
      "24867\n"
     ]
    }
   ],
   "source": [
    "bags = open(\"input.txt\").readlines()\n",
    "stack = []\n",
    "graph = {}\n",
    "for bag in bags:    \n",
    "    bag = bag.replace(\" contain no other bags.\",\"\").strip()\n",
    "    bag_ = bag.split(\" \")\n",
    "    graph[tuple(bag_[:2])] = {tuple(bag_[i+1:i+3]):int(bag_[i]) for i in range(len(bag_)) if i%4==0 and i>=1}\n",
    "\n",
    "def rec(element,mult):\n",
    "    total = 1\n",
    "    for child in graph[element].keys():\n",
    "        total+=rec(child,graph[element][child])\n",
    "    return total*mult\n",
    "print(rec(tuple([\"shiny\", \"gold\"]),1) - 1)"
   ]
  },
  {
   "cell_type": "code",
   "execution_count": 123,
   "metadata": {},
   "outputs": [
    {
     "data": {
      "text/plain": [
       "24867"
      ]
     },
     "execution_count": 123,
     "metadata": {},
     "output_type": "execute_result"
    }
   ],
   "source": []
  },
  {
   "cell_type": "code",
   "execution_count": 113,
   "metadata": {},
   "outputs": [
    {
     "data": {
      "text/plain": [
       "{('light', 'red'): {('bright', 'white'): 1, ('muted', 'yellow'): 2},\n",
       " ('dark', 'orange'): {('bright', 'white'): 3, ('muted', 'yellow'): 4},\n",
       " ('bright', 'white'): {('shiny', 'gold'): 1},\n",
       " ('muted', 'yellow'): {('shiny', 'gold'): 2, ('faded', 'blue'): 9},\n",
       " ('shiny', 'gold'): {('dark', 'olive'): 1, ('vibrant', 'plum'): 2},\n",
       " ('dark', 'olive'): {('faded', 'blue'): 3, ('dotted', 'black'): 4},\n",
       " ('vibrant', 'plum'): {('faded', 'blue'): 5, ('dotted', 'black'): 6},\n",
       " ('faded', 'blue'): {},\n",
       " ('dotted', 'black'): {}}"
      ]
     },
     "execution_count": 113,
     "metadata": {},
     "output_type": "execute_result"
    }
   ],
   "source": [
    "graph"
   ]
  },
  {
   "cell_type": "code",
   "execution_count": null,
   "metadata": {},
   "outputs": [],
   "source": [
    "\n",
    "while len(stack)!=0:\n",
    "    element,mult = stack.pop()\n",
    "    print(element)\n",
    "    print(mult)\n",
    "    for child in graph[element].keys():\n",
    "        stack.append([child,mult*graph[element][child]])\n",
    "    if len(graph[element].keys())==0:\n",
    "        total+=mult\n",
    "        \n",
    "total"
   ]
  },
  {
   "cell_type": "code",
   "execution_count": 87,
   "metadata": {},
   "outputs": [
    {
     "data": {
      "text/plain": [
       "{('faded', 'blue'): 5, ('dotted', 'black'): 6}"
      ]
     },
     "execution_count": 87,
     "metadata": {},
     "output_type": "execute_result"
    }
   ],
   "source": [
    "graph[('vibrant', 'plum')]"
   ]
  },
  {
   "cell_type": "code",
   "execution_count": 77,
   "metadata": {},
   "outputs": [
    {
     "data": {
      "text/plain": [
       "'1'"
      ]
     },
     "execution_count": 77,
     "metadata": {},
     "output_type": "execute_result"
    }
   ],
   "source": [
    "graph[element][child]"
   ]
  },
  {
   "cell_type": "code",
   "execution_count": 64,
   "metadata": {},
   "outputs": [
    {
     "data": {
      "text/plain": [
       "1"
      ]
     },
     "execution_count": 64,
     "metadata": {},
     "output_type": "execute_result"
    }
   ],
   "source": [
    "mult"
   ]
  },
  {
   "cell_type": "code",
   "execution_count": 53,
   "metadata": {},
   "outputs": [
    {
     "data": {
      "text/plain": [
       "{('wavy', 'fuchsia'): '5', ('wavy', 'lavender'): '5'}"
      ]
     },
     "execution_count": 53,
     "metadata": {},
     "output_type": "execute_result"
    }
   ],
   "source": [
    "{tuple(bag_[i+1:i+3]):bag_[i] for i in range(len(bag_)) if i%4==0 and i>=1}"
   ]
  },
  {
   "cell_type": "code",
   "execution_count": 47,
   "metadata": {},
   "outputs": [
    {
     "data": {
      "text/plain": [
       "['pale', '5', '5']"
      ]
     },
     "execution_count": 47,
     "metadata": {},
     "output_type": "execute_result"
    }
   ],
   "source": [
    "[bag_[i] for i in range(len(bag_)) if i%4==0  ]"
   ]
  },
  {
   "cell_type": "code",
   "execution_count": null,
   "metadata": {},
   "outputs": [],
   "source": []
  }
 ],
 "metadata": {
  "kernelspec": {
   "display_name": "Python 3",
   "language": "python",
   "name": "python3"
  },
  "language_info": {
   "codemirror_mode": {
    "name": "ipython",
    "version": 3
   },
   "file_extension": ".py",
   "mimetype": "text/x-python",
   "name": "python",
   "nbconvert_exporter": "python",
   "pygments_lexer": "ipython3",
   "version": "3.8.5"
  }
 },
 "nbformat": 4,
 "nbformat_minor": 4
}
