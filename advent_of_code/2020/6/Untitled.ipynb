{
 "cells": [
  {
   "cell_type": "code",
   "execution_count": 17,
   "metadata": {},
   "outputs": [
    {
     "name": "stdout",
     "output_type": "stream",
     "text": [
      "6742\n"
     ]
    }
   ],
   "source": [
    "n = 0\n",
    "letters = set()\n",
    "sums = 0\n",
    "for line in open(\"input.txt\",\"r\").readlines():\n",
    "    if line == \"\\n\":\n",
    "        sums+=len(letters)\n",
    "        letters = set()\n",
    "    else:\n",
    "        letters = letters.union(set([x for x in line.strip()]))\n",
    "        \n",
    "sums+=len(letters)\n",
    "print(sums)"
   ]
  },
  {
   "cell_type": "code",
   "execution_count": 18,
   "metadata": {},
   "outputs": [
    {
     "name": "stdout",
     "output_type": "stream",
     "text": [
      "3447\n"
     ]
    }
   ],
   "source": [
    "n = 0\n",
    "letters = set()\n",
    "sums = 0\n",
    "for line in open(\"input.txt\",\"r\").readlines():\n",
    "    if line == \"\\n\":\n",
    "        n = 0\n",
    "        sums+=len(letters)\n",
    "        letters = set()\n",
    "    else:\n",
    "        if n==0:\n",
    "            letters = set([x for x in line.strip()])\n",
    "        else:\n",
    "            letters = letters.intersection(set([x for x in line.strip()]))\n",
    "        n+=1\n",
    "        \n",
    "sums+=len(letters)\n",
    "print(sums)"
   ]
  }
 ],
 "metadata": {
  "kernelspec": {
   "display_name": "Python 3",
   "language": "python",
   "name": "python3"
  },
  "language_info": {
   "codemirror_mode": {
    "name": "ipython",
    "version": 3
   },
   "file_extension": ".py",
   "mimetype": "text/x-python",
   "name": "python",
   "nbconvert_exporter": "python",
   "pygments_lexer": "ipython3",
   "version": "3.8.5"
  }
 },
 "nbformat": 4,
 "nbformat_minor": 4
}
