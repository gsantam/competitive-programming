{
 "cells": [
  {
   "cell_type": "code",
   "execution_count": 22,
   "metadata": {},
   "outputs": [
    {
     "name": "stdout",
     "output_type": "stream",
     "text": [
      "1\n"
     ]
    },
    {
     "data": {
      "text/plain": [
       "[1, 1]"
      ]
     },
     "execution_count": 22,
     "metadata": {},
     "output_type": "execute_result"
    }
   ],
   "source": [
    "class Solution:\n",
    "    def searchRange(self, nums, target):\n",
    "        if len(nums)==1 and nums[0] == target:\n",
    "            return [0,0]\n",
    "        \n",
    "        left = 0\n",
    "        right = len(nums) -1\n",
    "        while True:\n",
    "            mid = (left + right) //2\n",
    "            mid_value = nums[mid]\n",
    "            \n",
    "            if mid_value == target:\n",
    "                break\n",
    "            if mid == left :\n",
    "                if nums[right]!=target:\n",
    "                    return [-1,-1]\n",
    "                else:\n",
    "                    mid = right\n",
    "                    break\n",
    "            \n",
    "            if mid_value < target:\n",
    "                left = mid\n",
    "            else:\n",
    "                right = mid\n",
    "                \n",
    "        real_mid = mid\n",
    "        left = 0\n",
    "        right = real_mid\n",
    "        \n",
    "        print(real_mid)\n",
    "        while True:\n",
    "            mid = (left + right) //2\n",
    "            mid_value = nums[mid]\n",
    "            \n",
    "            if mid == 0:\n",
    "                if nums[left] == target:\n",
    "                    left_interval = left\n",
    "                else:\n",
    "                    left_interval = right\n",
    "                break\n",
    "            \n",
    "            if mid_value!=target :\n",
    "                if nums[mid+1]==target:\n",
    "                    left_interval = mid +1\n",
    "                    break\n",
    "                else:\n",
    "                    left = mid\n",
    "            else:\n",
    "                right = mid\n",
    "                \n",
    "            \n",
    "        left = real_mid\n",
    "        right = len(nums)-1\n",
    "        \n",
    "        while True:\n",
    "            mid = (left + right) //2\n",
    "\n",
    "            mid_value = nums[mid]\n",
    "            \n",
    "            if mid==left:\n",
    "                if nums[right] == target:\n",
    "                    right_interval = right\n",
    "                else:\n",
    "                    right_interval = left\n",
    "                break\n",
    "            if mid_value!=target:\n",
    "                if nums[mid-1] == target:\n",
    "                    right_interval = mid-1\n",
    "                    break\n",
    "                else:\n",
    "                    right = mid\n",
    "            else:\n",
    "                left = mid\n",
    "        return [left_interval,right_interval]\n",
    "                    \n",
    "sol = Solution()\n",
    "sol.searchRange([1,4],4)"
   ]
  },
  {
   "cell_type": "code",
   "execution_count": 10,
   "metadata": {},
   "outputs": [
    {
     "data": {
      "text/plain": [
       "4"
      ]
     },
     "execution_count": 10,
     "metadata": {},
     "output_type": "execute_result"
    }
   ],
   "source": [
    "(4+5)//2"
   ]
  },
  {
   "cell_type": "code",
   "execution_count": 3,
   "metadata": {},
   "outputs": [
    {
     "ename": "KeyboardInterrupt",
     "evalue": "",
     "output_type": "error",
     "traceback": [
      "\u001b[0;31m---------------------------------------------------------------------------\u001b[0m",
      "\u001b[0;31mKeyboardInterrupt\u001b[0m                         Traceback (most recent call last)",
      "\u001b[0;32m<ipython-input-3-a34d5dae12ab>\u001b[0m in \u001b[0;36m<module>\u001b[0;34m\u001b[0m\n\u001b[0;32m----> 1\u001b[0;31m \u001b[0msol\u001b[0m\u001b[0;34m.\u001b[0m\u001b[0msearchRange\u001b[0m\u001b[0;34m(\u001b[0m\u001b[0;34m[\u001b[0m\u001b[0;36m5\u001b[0m\u001b[0;34m,\u001b[0m\u001b[0;36m7\u001b[0m\u001b[0;34m,\u001b[0m\u001b[0;36m7\u001b[0m\u001b[0;34m,\u001b[0m\u001b[0;36m8\u001b[0m\u001b[0;34m,\u001b[0m\u001b[0;36m8\u001b[0m\u001b[0;34m,\u001b[0m\u001b[0;36m10\u001b[0m\u001b[0;34m]\u001b[0m\u001b[0;34m,\u001b[0m\u001b[0;36m8\u001b[0m\u001b[0;34m)\u001b[0m\u001b[0;34m\u001b[0m\u001b[0;34m\u001b[0m\u001b[0m\n\u001b[0m",
      "\u001b[0;32m<ipython-input-1-3198719d555a>\u001b[0m in \u001b[0;36msearchRange\u001b[0;34m(self, nums, target)\u001b[0m\n\u001b[1;32m     51\u001b[0m             \u001b[0mmid_value\u001b[0m \u001b[0;34m=\u001b[0m \u001b[0mnums\u001b[0m\u001b[0;34m[\u001b[0m\u001b[0mmid\u001b[0m\u001b[0;34m]\u001b[0m\u001b[0;34m\u001b[0m\u001b[0;34m\u001b[0m\u001b[0m\n\u001b[1;32m     52\u001b[0m \u001b[0;34m\u001b[0m\u001b[0m\n\u001b[0;32m---> 53\u001b[0;31m             \u001b[0;32mif\u001b[0m \u001b[0mmid\u001b[0m\u001b[0;34m==\u001b[0m\u001b[0mlen\u001b[0m\u001b[0;34m(\u001b[0m\u001b[0mnums\u001b[0m\u001b[0;34m)\u001b[0m \u001b[0;34m-\u001b[0m\u001b[0;36m2\u001b[0m\u001b[0;34m:\u001b[0m\u001b[0;34m\u001b[0m\u001b[0;34m\u001b[0m\u001b[0m\n\u001b[0m\u001b[1;32m     54\u001b[0m                 \u001b[0;32mif\u001b[0m \u001b[0mnums\u001b[0m\u001b[0;34m[\u001b[0m\u001b[0mright\u001b[0m\u001b[0;34m]\u001b[0m \u001b[0;34m==\u001b[0m \u001b[0mtarget\u001b[0m\u001b[0;34m:\u001b[0m\u001b[0;34m\u001b[0m\u001b[0;34m\u001b[0m\u001b[0m\n\u001b[1;32m     55\u001b[0m                     \u001b[0mright_interval\u001b[0m \u001b[0;34m=\u001b[0m \u001b[0mright\u001b[0m\u001b[0;34m\u001b[0m\u001b[0;34m\u001b[0m\u001b[0m\n",
      "\u001b[0;31mKeyboardInterrupt\u001b[0m: "
     ]
    }
   ],
   "source": []
  }
 ],
 "metadata": {
  "kernelspec": {
   "display_name": "Python 3",
   "language": "python",
   "name": "python3"
  },
  "language_info": {
   "codemirror_mode": {
    "name": "ipython",
    "version": 3
   },
   "file_extension": ".py",
   "mimetype": "text/x-python",
   "name": "python",
   "nbconvert_exporter": "python",
   "pygments_lexer": "ipython3",
   "version": "3.8.5"
  }
 },
 "nbformat": 4,
 "nbformat_minor": 4
}
