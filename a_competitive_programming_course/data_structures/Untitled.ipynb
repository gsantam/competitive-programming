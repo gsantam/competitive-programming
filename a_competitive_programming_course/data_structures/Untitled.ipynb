{
 "cells": [
  {
   "cell_type": "code",
   "execution_count": null,
   "metadata": {},
   "outputs": [],
   "source": [
    "cases = int(input())\n",
    "for i in range(cases):\n",
    "    m,r = input().split(\" \")\n",
    "    m = int(m)\n",
    "    r = int(r)\n",
    "    stack = [m - i  for i in range(m)]\n",
    "    solution = []\n",
    "    numbers = [int(x) for x in input().split(\" \")]\n",
    "    for j in range(r):\n",
    "        number = numbers[j]\n",
    "        for k in range(len(stack)):\n",
    "            if stack[len(stack) - k -1 ] == number:\n",
    "                solution.append(k)\n",
    "                del stack[len(stack) - k -1 ]\n",
    "                break\n",
    "        stack.append(number)\n",
    "    print(\" \".join([str(x) for x in solution]))   \n"
   ]
  }
 ],
 "metadata": {
  "kernelspec": {
   "display_name": "Python 3",
   "language": "python",
   "name": "python3"
  },
  "language_info": {
   "codemirror_mode": {
    "name": "ipython",
    "version": 3
   },
   "file_extension": ".py",
   "mimetype": "text/x-python",
   "name": "python",
   "nbconvert_exporter": "python",
   "pygments_lexer": "ipython3",
   "version": "3.8.5"
  }
 },
 "nbformat": 4,
 "nbformat_minor": 4
}
